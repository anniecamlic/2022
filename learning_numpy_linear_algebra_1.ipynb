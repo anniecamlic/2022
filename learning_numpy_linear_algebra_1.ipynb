{
  "metadata": {
    "language_info": {
      "codemirror_mode": {
        "name": "python",
        "version": 3
      },
      "file_extension": ".py",
      "mimetype": "text/x-python",
      "name": "python",
      "nbconvert_exporter": "python",
      "pygments_lexer": "ipython3",
      "version": "3.8"
    },
    "kernelspec": {
      "name": "python",
      "display_name": "Pyolite",
      "language": "python"
    }
  },
  "nbformat_minor": 4,
  "nbformat": 4,
  "cells": [
    {
      "cell_type": "code",
      "source": "#Author: Anita Camlic\n#This will be a rundown / practice of the linear algebra that you can do with the numpy library\n\nimport numpy as np\n\n#MATRIX MULTIPLICATION\n#(m x n)(n x r) = (m x r) for multiplication, the two inner dimensions must be equal\na = np.ones((2,3))\nb = np.ones((3,8))\n\n#demonstrating using the matrix multiplication function in numpy\n# np.matmul(matrix1 , matrix2)\nc = np.matmul(a,b)\nprint('dimension of new matrix after multiplication: ' + str(np.shape(c))) #should be 2 x 8\n\n#demonstrating how to find the determinant using numpy\n#we already know that the determinant of the identitiy matrix is one, so lets check that\n# np.linalg.det(matrix), matrix must have dimensions (n x n) (must be a square matrix)\na = np.identity(5)\n\n#checking if it is equal to one,then printing the result\nnp.linalg.det(a) == 1\nprint('determinant of the identity matrix: ' + str(np.linalg.det(a)))\n\n#demonstrating how to find the dot product of two vectors\n#for dot products, the vectors must be the same shape/dimensions\n# np.dot(vector1 , vector2)\na = np.array([1,2,3]) #shape: (1,3)\nb = np.array([3,2,1]) #shape: (1,3)\nc = np.array([4,5,6]) #shape: (1,3)\n\n#the dot product function below should return (3*1) + (2*2) + (3*1) = (3) + (4) + (3) = 10\n\nprint('dot product: ' + str(np.dot(a,b)))\n\n#demonstrating how to find the inner product using numpy\n# the dot product is a type of inner product. The inner product is more of a generalized term. Both are important\n#in this example, the dot product and the inner product of vectors a and b should yield the same answer\n# np.inner( vector1 , vector2)\n\nprint('inner product: ' + str(np.inner(a,b)))\n\n#demonstrating how to find the outer product using numpy\n#If u & v are vectors of the same dimension, then the outer product = u * Transpose(v)\n#In the example below it will result in a matrix\n# np.outer(vector1 , vector2)\n\nprint('outer product: \\n' + str(np.outer(a,b)))\n\n#MATRIX ADDITION\nA = np.array([[1,2,3],[4,5,6],[7,8,9]])\nB = np.ones((3,3))\n\n#demonstrating using the add function\n#to add two matrices together, you shold use the add function, you can only add matrices of the same dimension\n# np.add(matrix1 , matrix2)\nprint('matrix addition result: \\n' + str(np.add(A,B)))\n\n#MATRIX SUBTRACTION\n#demonstrating the subtract function\n#to subract two matrices from each other, you should use the subtract function, you can only subtract matrices of the same dimension\n#np.subtract(matrix1 , matrix2)  = matrix1 - matrix2\nprint('matrix subtraction result: \\n' + str(np.subtract(A,B)))\n\n#MATRIX PRODUCTS\n#Demonstrating how to do multiplication of matrices\n#we will use the matmul function\n#keeping it simple with (2*2) arrays\n#np.matmul(matrix1 , matrix2) \n\nA = np.array([[2,2],[2,2]])\nB = np.array([[1,2],[3,4]])\n\nprint('matrix A:')\nprint(A)\nprint('matrix B:')\nprint(B)\n\nC = np.matmul(A,B)\nprint('A * B:')\nprint(C)\n\n\n\n\n\n\n",
      "metadata": {
        "trusted": true
      },
      "execution_count": 34,
      "outputs": [
        {
          "name": "stdout",
          "text": "dimension of new matrix after multiplication: (2, 8)\ndeterminant of the identity matrix: 1.0\ndot product: 10\ninner product: 10\nouter product: \n[[3 2 1]\n [6 4 2]\n [9 6 3]]\nmatrix addition result: \n[[ 2.  3.  4.]\n [ 5.  6.  7.]\n [ 8.  9. 10.]]\nmatrix subtraction result: \n[[0. 1. 2.]\n [3. 4. 5.]\n [6. 7. 8.]]\nmatrix A:\n[[2 2]\n [2 2]]\nmatrix B:\n[[1 2]\n [3 4]]\nA * B:\n[[ 8 12]\n [ 8 12]]\n",
          "output_type": "stream"
        }
      ]
    },
    {
      "cell_type": "code",
      "source": "",
      "metadata": {},
      "execution_count": null,
      "outputs": []
    },
    {
      "cell_type": "code",
      "source": "",
      "metadata": {},
      "execution_count": null,
      "outputs": []
    }
  ]
}